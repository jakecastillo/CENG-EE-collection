{
 "cells": [
  {
   "cell_type": "markdown",
   "metadata": {
    "ein.tags": "worksheet-0",
    "slideshow": {
     "slide_type": "-"
    }
   },
   "source": [
    "# Lab 0: Intro to Python, Numpy, and Numeric Types\n",
    "---\n"
   ]
  },
  {
   "cell_type": "markdown",
   "metadata": {
    "ein.tags": "worksheet-0",
    "slideshow": {
     "slide_type": "-"
    }
   },
   "source": [
    "## Lab Objectives\n",
    "\n",
    "The goals for this lab are to \n",
    "\n",
    "- Understand how to import a module, namely numpy. \n",
    "- How to work with different numeric types and storage containers.\n",
    "- Basic manipulation of matrices and vectors\n",
    "\n",
    "<span style=\"color:red\">Instructions: run through the entire notebook. There are questions at the end of each section that you need to answer/write code for. Submit the completed notebook as your report. </span>\n",
    "\n",
    "---\n",
    "## (0) Introduction\n",
    "\n",
    "#### What is Python?\n",
    "__Short answer__: It is an interpreted, high level, dynamically typed, language supporting multiple features such as object oriented and functional programming.<br>\n",
    "__Shorter answer__: It is a programming language that was designed to be easy to use.\n",
    "\n",
    "#### What is Numpy?\n",
    "A package for scientific computing in Python. It is a library that provides multidimensional arrays, pseuso-random number generation, basic linear algebra and other basic routines needed for data science. <br>\n",
    "https://docs.scipy.org/doc/numpy/\n",
    "\n",
    "#### What is Jupyter Notebook/Lab?\n",
    "Jupyter Notebook/Lab is a web application that allow us to interactively run code and analyze intermediate results. \n",
    " \n",
    "For this class we will write all our code in Jupyter notebooks in Python. The objective of the labs is to familiarize ourselves with programming in Python using Jupyter notebooks for scientific computing. In our notebooks, there will be two main types of cells, 1) Markdown and 2) Code. Markdown cells are like this cell and provide an environment for writing formatted text. Code cells will contain the code that is ultimately executed. To process a cell, we press `shift enter`.\n",
    "\n"
   ]
  },
  {
   "cell_type": "markdown",
   "metadata": {
    "ein.tags": "worksheet-0",
    "slideshow": {
     "slide_type": "-"
    }
   },
   "source": [
    "---\n",
    "## (1) Importing Modules\n",
    "\n",
    "First, we must load the modules we would like to use. A module can be as a simple as a text file containing some frequently used code. We use the `import` command to import a particular module, and then use `as` to provide a shorter name to access it if we desire. Using `as` is not necessary.\n",
    "<br>\n",
    "\n",
    "For example python provides a module called math. We may 'import math as mt' if we would like by typing the following code.\n",
    "\n",
    "```python\n",
    "import math as mt\n",
    "```\n",
    "\n",
    "Once we would like to execute the code in a cell, we type `shift enter`. \n",
    "\n",
    "\n",
    "After executing the code, anything that the imported module provides will be accessed through typing \n",
    "\n",
    "`{module name}.{name of submodule/function}`. \n",
    "\n",
    "We could have used any other name besides `mt`, but for convenience chose `mt`. Execute the below code block."
   ]
  },
  {
   "cell_type": "code",
   "execution_count": 4,
   "metadata": {
    "autoscroll": false,
    "ein.hycell": false,
    "ein.tags": "worksheet-0",
    "slideshow": {
     "slide_type": "-"
    }
   },
   "outputs": [
    {
     "data": {
      "text/plain": [
       "4.0"
      ]
     },
     "execution_count": 4,
     "metadata": {},
     "output_type": "execute_result"
    }
   ],
   "source": [
    "## Here we import the math module as mt to save use from typing an extra 2 letters.\n",
    "import math as mt\n",
    "\n",
    "## Let us calculate the square root of 16\n",
    "mt.sqrt(16)"
   ]
  },
  {
   "cell_type": "markdown",
   "metadata": {
    "ein.tags": "worksheet-0",
    "slideshow": {
     "slide_type": "-"
    }
   },
   "source": [
    "## <span style=\"color:red\"> (1) Questions</span>\n",
    "\n",
    "1. Below create a new code cell below.\n",
    "2. Import the 'numpy' library as 'np'.\n",
    "3. Use the numpy provided function `sqrt` to calculate the square root of 25.\n",
    "4. Execute the code in the cell."
   ]
  },
  {
   "cell_type": "code",
   "execution_count": 2,
   "metadata": {},
   "outputs": [
    {
     "data": {
      "text/plain": [
       "5.0"
      ]
     },
     "execution_count": 2,
     "metadata": {},
     "output_type": "execute_result"
    }
   ],
   "source": [
    "#1 Import numpy as np and calculate the square root of 25 then execute\n",
    "import numpy as np\n",
    "\n",
    "np.sqrt(25)"
   ]
  },
  {
   "cell_type": "markdown",
   "metadata": {
    "ein.tags": "worksheet-0",
    "slideshow": {
     "slide_type": "-"
    }
   },
   "source": [
    "---\n",
    "## (2) Numeric Types and Floating Point Arithmetic\n",
    "\n"
   ]
  },
  {
   "cell_type": "markdown",
   "metadata": {
    "ein.tags": "worksheet-0",
    "slideshow": {
     "slide_type": "-"
    }
   },
   "source": [
    "Imagine we perform an experiment, the results or observations of our experiment can be of many different types;\n",
    "\n",
    "- Flip a coin\n",
    "    - Heads or Tails -> True or False (Boolean)\n",
    "    \n",
    "- Measure a Heartbeat\n",
    "    - $60.2$ beats per minute -> $0.0 - 500.0$ (Float)\n",
    "    \n",
    "- Demodulate a RF signal\n",
    "    - $1.0 - 1.0\\cdot j$ (I and Q) -> Complex Numbers in a disk (Complex)\n",
    "    \n",
    "\n",
    "Numbers are approximated on a computer and we are not truely able to represent all real numbers. In particular we have limited precision. Floating point numbers are represented as a sum of base 2 fractions times an exponent, as below. \n",
    "$$ (-1)^{sign}(1 + \\sum_{i=1}^{m} \\frac{\\alpha_i}{2^i} )\\cdot 2^{\\beta} $$ \n",
    "\n",
    "This representation may lead to unexpected behavior. We can see a simple example below where a sum does not equal what we expect it to equal."
   ]
  },
  {
   "cell_type": "code",
   "execution_count": 2,
   "metadata": {
    "autoscroll": false,
    "ein.hycell": false,
    "ein.tags": "worksheet-0",
    "slideshow": {
     "slide_type": "-"
    }
   },
   "outputs": [
    {
     "data": {
      "text/plain": [
       "False"
      ]
     },
     "execution_count": 2,
     "metadata": {},
     "output_type": "execute_result"
    }
   ],
   "source": [
    "# Here we test whether summing three floating point numbers is equal to what we think it should equal.\n",
    "0.1 + 0.1 + 0.1 == 0.3"
   ]
  },
  {
   "cell_type": "markdown",
   "metadata": {
    "ein.tags": "worksheet-0",
    "slideshow": {
     "slide_type": "-"
    }
   },
   "source": [
    "We see below the numerical difference."
   ]
  },
  {
   "cell_type": "code",
   "execution_count": 3,
   "metadata": {
    "autoscroll": false,
    "ein.hycell": false,
    "ein.tags": "worksheet-0",
    "slideshow": {
     "slide_type": "-"
    }
   },
   "outputs": [
    {
     "data": {
      "text/plain": [
       "5.551115123125783e-17"
      ]
     },
     "execution_count": 3,
     "metadata": {},
     "output_type": "execute_result"
    }
   ],
   "source": [
    "(0.1 + 0.1 + 0.1) - 0.3"
   ]
  },
  {
   "cell_type": "markdown",
   "metadata": {
    "ein.tags": "worksheet-0",
    "slideshow": {
     "slide_type": "-"
    }
   },
   "source": [
    "Understanding the conventions for representing numbers is an essential part of scientific programming. We must be aware of these limitations, and account for them so that our code will have the correct semantics. In particular, we may consider two floating point numbers the same if they agree up to a certain number of digits instead of above. \n",
    "\n",
    "To represent data types in numpy, we have numeric types, which are boolean, int, float, complex. Our goal is to use the minimal representation to store our data. For int, float, and complex we may choose a size of the representation, such as 32-bit and 64-bit values, although there are more possible values. To see a complete list go to <br>\n",
    "https://numpy.org/devdocs/user/basics.types.html\n",
    "\n",
    "\n",
    "To specify the type of a number or variable, we use <br>\n",
    "`np.(variable type)` <br>\n",
    "Types will be important since we need to understand precisely what calculations we are performing, and why we may end up with nans and infs.\n",
    "\n",
    "<br>\n",
    "<div class=\"alert alert-block alert-info\">\n",
    "<b> Python Types:</b> Python provides an integer type where the size of the representation can grow. We will not cover it here but more can be read at  <a href=\"http://site.com/product/product-link#modal\">\n",
    "    http://www.laurentluce.com/posts/python-integer-objects-implementation/\n",
    "</div>\n",
    "    \n",
    "Below we create a variable `x` and initialize it with a floating point number then convert it to an integer."
   ]
  },
  {
   "cell_type": "code",
   "execution_count": 5,
   "metadata": {
    "autoscroll": false,
    "ein.hycell": false,
    "ein.tags": "worksheet-0",
    "slideshow": {
     "slide_type": "-"
    }
   },
   "outputs": [
    {
     "name": "stdout",
     "output_type": "stream",
     "text": [
      "x has type  <class 'numpy.float32'>  and value  1.349\n",
      "x has type  <class 'numpy.int32'>  and value  1\n"
     ]
    }
   ],
   "source": [
    "import numpy as np\n",
    "\n",
    "x=np.float32(1.349) #set a variable to a 32-bit floating point value\n",
    "print(\"x has type \",type(x),\" and value \",x) # print the variable x and its type\n",
    "\n",
    "x=np.int32(x) # convert x to a 32-bit integer\n",
    "print(\"x has type \",type(x),\" and value \",x) # print the variable x and its type\n"
   ]
  },
  {
   "cell_type": "markdown",
   "metadata": {
    "ein.tags": "worksheet-0",
    "slideshow": {
     "slide_type": "-"
    }
   },
   "source": [
    "We recall the example several cells above and test how specifying the number of bits for a floating point affect checking whether two numbers are equal."
   ]
  },
  {
   "cell_type": "code",
   "execution_count": 6,
   "metadata": {
    "autoscroll": false,
    "ein.hycell": false,
    "ein.tags": "worksheet-0",
    "slideshow": {
     "slide_type": "-"
    }
   },
   "outputs": [
    {
     "data": {
      "text/plain": [
       "False"
      ]
     },
     "execution_count": 6,
     "metadata": {},
     "output_type": "execute_result"
    }
   ],
   "source": [
    "np.float64(.1) + np.float64(.1) + np.float64(.1) == np.float64(.3)"
   ]
  },
  {
   "cell_type": "code",
   "execution_count": 7,
   "metadata": {
    "autoscroll": false,
    "ein.hycell": false,
    "ein.tags": "worksheet-0",
    "slideshow": {
     "slide_type": "-"
    }
   },
   "outputs": [
    {
     "data": {
      "text/plain": [
       "True"
      ]
     },
     "execution_count": 7,
     "metadata": {},
     "output_type": "execute_result"
    }
   ],
   "source": [
    "np.float32(.1) + np.float32(.1) + np.float32(.1) == np.float32(.3)"
   ]
  },
  {
   "cell_type": "markdown",
   "metadata": {
    "ein.tags": "worksheet-0",
    "slideshow": {
     "slide_type": "-"
    }
   },
   "source": [
    "We see above that specifying the number of bits for a floating point representation may affect the outcome of our code.\n",
    "\n",
    "Below we create a variable `y` and initialize it with a larger floating point number then attempt to convert it to a 32-bit integer.\n"
   ]
  },
  {
   "cell_type": "code",
   "execution_count": 8,
   "metadata": {
    "autoscroll": false,
    "ein.hycell": false,
    "ein.tags": "worksheet-0",
    "slideshow": {
     "slide_type": "-"
    }
   },
   "outputs": [
    {
     "name": "stdout",
     "output_type": "stream",
     "text": [
      "y has type  <class 'float'>  and value  2147483648.0\n",
      "y has type  <class 'int'>  and value  2147483648\n",
      "y has type  <class 'numpy.int32'>  and value  -2147483648\n"
     ]
    }
   ],
   "source": [
    "\n",
    "y=2147483648.0\n",
    "print(\"y has type \",type(y),\" and value \",y) # print the variable x and its type\n",
    "\n",
    "y=int(y) # convert x to a 32-bit integer\n",
    "print(\"y has type \",type(y),\" and value \",y) # print the variable x and its type\n",
    "\n",
    "\n",
    "# attmmpt to convert y to a 32-bit integer but fail.\n",
    "y=np.int32(y) # convert x to a 32-bit integer\n",
    "print(\"y has type \",type(y),\" and value \",y) # print the variable x and its type"
   ]
  },
  {
   "cell_type": "markdown",
   "metadata": {
    "ein.tags": "worksheet-0",
    "slideshow": {
     "slide_type": "-"
    }
   },
   "source": [
    "As we notice above, we must be careful with the types of variables we use.\n",
    "\n",
    "**Below we output the possible values of various size integers.**"
   ]
  },
  {
   "cell_type": "code",
   "execution_count": 9,
   "metadata": {
    "autoscroll": false,
    "ein.hycell": false,
    "ein.tags": "worksheet-0",
    "slideshow": {
     "slide_type": "-"
    }
   },
   "outputs": [
    {
     "name": "stdout",
     "output_type": "stream",
     "text": [
      "Machine parameters for int8\n",
      "---------------------------------------------------------------\n",
      "min = -128\n",
      "max = 127\n",
      "---------------------------------------------------------------\n",
      "\n",
      "Machine parameters for int32\n",
      "---------------------------------------------------------------\n",
      "min = -2147483648\n",
      "max = 2147483647\n",
      "---------------------------------------------------------------\n",
      "\n",
      "Machine parameters for int64\n",
      "---------------------------------------------------------------\n",
      "min = -9223372036854775808\n",
      "max = 9223372036854775807\n",
      "---------------------------------------------------------------\n",
      "\n"
     ]
    }
   ],
   "source": [
    "print(np.iinfo(np.int8)) # Bounds of a 8-bit integer \n",
    "\n",
    "print(np.iinfo(np.int32) )# Bounds of a 32-bit integer\n",
    "\n",
    "print(np.iinfo(np.int64)) # Bounds of a 64-bit integer"
   ]
  },
  {
   "cell_type": "markdown",
   "metadata": {
    "ein.tags": "worksheet-0",
    "slideshow": {
     "slide_type": "-"
    }
   },
   "source": [
    "**Below we output the possible values of various size floats, and associated constraints.**\n",
    "\n"
   ]
  },
  {
   "cell_type": "code",
   "execution_count": 10,
   "metadata": {
    "autoscroll": false,
    "ein.hycell": false,
    "ein.tags": "worksheet-0",
    "slideshow": {
     "slide_type": "-"
    }
   },
   "outputs": [
    {
     "name": "stdout",
     "output_type": "stream",
     "text": [
      "Machine parameters for float32\n",
      "---------------------------------------------------------------\n",
      "precision =   6   resolution = 1.0000000e-06\n",
      "machep =    -23   eps =        1.1920929e-07\n",
      "negep =     -24   epsneg =     5.9604645e-08\n",
      "minexp =   -126   tiny =       1.1754944e-38\n",
      "maxexp =    128   max =        3.4028235e+38\n",
      "nexp =        8   min =        -max\n",
      "---------------------------------------------------------------\n",
      "\n",
      "Machine parameters for float64\n",
      "---------------------------------------------------------------\n",
      "precision =  15   resolution = 1.0000000000000001e-15\n",
      "machep =    -52   eps =        2.2204460492503131e-16\n",
      "negep =     -53   epsneg =     1.1102230246251565e-16\n",
      "minexp =  -1022   tiny =       2.2250738585072014e-308\n",
      "maxexp =   1024   max =        1.7976931348623157e+308\n",
      "nexp =       11   min =        -max\n",
      "---------------------------------------------------------------\n",
      "\n"
     ]
    }
   ],
   "source": [
    "print(np.finfo(np.float32) )# Bounds of a 32-bit float\n",
    "\n",
    "print(np.finfo(np.float64)) # Bounds of a 64-bit float"
   ]
  },
  {
   "cell_type": "markdown",
   "metadata": {
    "ein.tags": "worksheet-0",
    "slideshow": {
     "slide_type": "-"
    }
   },
   "source": [
    "#### To determine the type of a number or variable, we may call the `type` function."
   ]
  },
  {
   "cell_type": "code",
   "execution_count": 6,
   "metadata": {
    "autoscroll": false,
    "ein.hycell": false,
    "ein.tags": "worksheet-0",
    "slideshow": {
     "slide_type": "-"
    }
   },
   "outputs": [
    {
     "name": "stdout",
     "output_type": "stream",
     "text": [
      "Here we print the type of 1  : <class 'int'>\n",
      "Here we print the type of 1.0 : <class 'float'>\n",
      "Here we print the type of a complex number, 1.0+1j  : <class 'complex'>\n"
     ]
    }
   ],
   "source": [
    "print(\"Here we print the type of 1  :\",type(1))\n",
    "\n",
    "\n",
    "print(\"Here we print the type of 1.0 :\",type(1.0))\n",
    "\n",
    "\n",
    "print(\"Here we print the type of a complex number, 1.0+1j  :\",type(1.0+1j*1.0))\n"
   ]
  },
  {
   "cell_type": "markdown",
   "metadata": {
    "ein.tags": "worksheet-0",
    "slideshow": {
     "slide_type": "-"
    }
   },
   "source": [
    "## <span style=\"color:red\"> (2) Questions</span>\n",
    "\n",
    "1. Below create a new code cell below.\n",
    "2. Come up with another example of a sum of 64 bit floats that do not sum to what we think they should.\n",
    "3. What numpy datatype, from this link https://numpy.org/devdocs/user/basics.types.html , would you choose to represent data from collecting;  \n",
    "    1. attendance of this class\n",
    "    2. heartbeat measurements\n",
    "    3. number of votes for a United States of America presidential candidate\n",
    "\n",
    "    In the cell you create below, write one example for each. For example it we wanted to capture whether a heads or tails happened in a coin flip, we would type \n",
    "```python \n",
    "np.boolean(True)    \n",
    "```\n",
    "    "
   ]
  },
  {
   "cell_type": "code",
   "execution_count": 101,
   "metadata": {},
   "outputs": [
    {
     "data": {
      "text/plain": [
       "0"
      ]
     },
     "execution_count": 101,
     "metadata": {},
     "output_type": "execute_result"
    }
   ],
   "source": [
    "#2 Come up with another example of a sum of 64 bit floats that do not sum to what they should\n",
    "np.power(100, 101, dtype=np.int64) \n",
    "# is wrong"
   ]
  },
  {
   "cell_type": "code",
   "execution_count": 102,
   "metadata": {},
   "outputs": [
    {
     "name": "stdout",
     "output_type": "stream",
     "text": [
      "Attendance of this class:  30\n",
      "Heartbeat measurements:  160\n",
      "Number of votes for a USA persidential candidate:  116000000\n"
     ]
    }
   ],
   "source": [
    "#3 Come up with examples of np datatypes\n",
    "print(\"Attendance of this class: \", np.short(30))\n",
    "print(\"Heartbeat measurements: \", np.uint8(160))\n",
    "print(\"Number of votes for a USA persidential candidate: \", np.long(116000000))"
   ]
  },
  {
   "cell_type": "markdown",
   "metadata": {
    "ein.tags": "worksheet-0",
    "slideshow": {
     "slide_type": "-"
    }
   },
   "source": [
    "---\n",
    "## (3) Storing Numeric Types: Tuples, Lists, and Arrays\n",
    "\n",
    "If we would like to store multiple observations, e.g., a collection of strings, or a matrix, we will use lists, tuples, and arrays.\n",
    "Lists, tuples, and arrays have different use cases. <br>\n",
    "\n",
    "- **Tuples** are immutable, i.e., they can not be changed, and frequently are used to specify the dimensions of an array. Their main advantages are fast access and the fact they can not be changed. They are constructed by writing \n",
    "```python \n",
    "b=(1,2,3) \n",
    "```\n",
    "<br>\n",
    "- **Lists** allow us flexibility in storing multiple types in a single container. They also allow us to not specify a size and concatenate elements. Due to their flexibility a time penalty is incurred when trying to access and perform operations. They are declared as follows;\n",
    "```python \n",
    "a=[\"horse\",\"pig\",\"chicken\"] \n",
    "```\n",
    "<br>\n",
    "- **Arrays** can be accessed fast, but may only store one data type. When we use arrays we will use the implementation provided in numpy. \n",
    "```python \n",
    "c=np.array([1.0,2.0,3.0,4.0])\n",
    "```\n",
    "<br>\n"
   ]
  },
  {
   "cell_type": "markdown",
   "metadata": {
    "ein.tags": "worksheet-0",
    "slideshow": {
     "slide_type": "-"
    }
   },
   "source": [
    "### (3.1) Working with Tuples\n",
    "\n",
    "In this section, we will go over some common tuple properties and operations.\n"
   ]
  },
  {
   "cell_type": "code",
   "execution_count": 110,
   "metadata": {
    "autoscroll": false,
    "ein.hycell": false,
    "ein.tags": "worksheet-0",
    "slideshow": {
     "slide_type": "-"
    }
   },
   "outputs": [
    {
     "name": "stdout",
     "output_type": "stream",
     "text": [
      "The first entry of nums1 is  1\n",
      "The resulting tuple is  (1, 2, 3, 4, 5, 6, 7, 8, 9, 10)\n"
     ]
    }
   ],
   "source": [
    "## To create a tuple \n",
    "nums1=(1,2,3,4)\n",
    "nums2=(5,6,7,8,9)\n",
    "\n",
    "## To create a tuple with one element place a comma after the entry\n",
    "nums3=(10,) \n",
    "\n",
    "## We can access elements of a tuple by using brackets\n",
    "print(\"The first entry of nums1 is \",nums1[0])\n",
    "\n",
    "## We can create a new tuple by joining tuples\n",
    "nums = nums1 + nums2 + nums3\n",
    "print(\"The resulting tuple is \",nums)\n"
   ]
  },
  {
   "cell_type": "markdown",
   "metadata": {
    "ein.tags": "worksheet-0",
    "slideshow": {
     "slide_type": "-"
    }
   },
   "source": [
    "### (3.2) Working with Lists\n",
    "\n",
    "In this section, we will go over some common list properties and operations.\n",
    "\n",
    "Below we create a list of pokemon, calculate the length, and print it out."
   ]
  },
  {
   "cell_type": "code",
   "execution_count": 16,
   "metadata": {
    "autoscroll": false,
    "ein.hycell": false,
    "ein.tags": "worksheet-0",
    "slideshow": {
     "slide_type": "-"
    }
   },
   "outputs": [
    {
     "name": "stdout",
     "output_type": "stream",
     "text": [
      "The length of the list is  8 . \n",
      "\n",
      "The elements of pokemon are; \n",
      "charizard\n",
      "lucario\n",
      "eevee\n",
      "pikachu\n",
      "mewtwo\n",
      "mew\n",
      "bulbasaur\n",
      "garchomp\n",
      "The last element of the list, pokemon, is arcanine\n"
     ]
    }
   ],
   "source": [
    "pokemon=[ \"charizard\", \"lucario\", \"eevee\",\"pikachu\",\"mewtwo\",\"mew\",\"bulbasaur\",\"garchomp\"]\n",
    "\n",
    "## we can check on the length of the list using \"len\".\n",
    "print(\"The length of the list is \",len(pokemon),\". \\n\")\n",
    "\n",
    "## We can use a \"for loop\" to print out the elements.\n",
    "print(\"The elements of pokemon are; \")\n",
    "for p in pokemon:\n",
    "    print(p)\n",
    "    \n",
    "## here we append another pokemon to the list\n",
    "pokemon.append(\"arcanine\")\n",
    "\n",
    "## We confirm that that the last element of the list is \"arcanine\"\n",
    "print(\"The last element of the list, pokemon, is\",pokemon[-1])\n"
   ]
  },
  {
   "cell_type": "markdown",
   "metadata": {
    "ein.tags": "worksheet-0",
    "slideshow": {
     "slide_type": "-"
    }
   },
   "source": [
    "Below we use list comprehension to create a list of squared integers."
   ]
  },
  {
   "cell_type": "code",
   "execution_count": 1,
   "metadata": {
    "autoscroll": false,
    "ein.hycell": false,
    "ein.tags": "worksheet-0",
    "slideshow": {
     "slide_type": "-"
    }
   },
   "outputs": [
    {
     "name": "stdout",
     "output_type": "stream",
     "text": [
      "[1, 4, 9, 16, 25, 36, 49, 64, 81, 100]\n"
     ]
    }
   ],
   "source": [
    "## First we create list containing the squares of integers up to 10.\n",
    "## We use another data type called \"range\"\n",
    "lsi=[(x+1)*(x+1) for x in range(10) ]\n",
    "print(lsi)"
   ]
  },
  {
   "cell_type": "markdown",
   "metadata": {
    "ein.tags": "worksheet-0",
    "slideshow": {
     "slide_type": "-"
    }
   },
   "source": [
    "### (3.3) Working with Numpy Arrays \n",
    "\n",
    "In this section, we will go over arrays. Lists, ranges, and tuples are provided by python. Python does not provide arrays, and we will use the implementation provided by numpy. Recall, we have already imported `numpy` as `np`. To access any properties about numpy arrays, we will use `np.{ }`. \n",
    "\n",
    "Numpy arrays can be initialized in many ways. If the datatype is not specified, numpy will try to find the smallest size datatype that can hold the numeric type provided. Below we use several different methods to construct arrays.\n"
   ]
  },
  {
   "cell_type": "code",
   "execution_count": 30,
   "metadata": {
    "autoscroll": false,
    "ein.hycell": false,
    "ein.tags": "worksheet-0",
    "slideshow": {
     "slide_type": "-"
    }
   },
   "outputs": [
    {
     "name": "stdout",
     "output_type": "stream",
     "text": [
      "The datatype of the elements of a is   <class 'numpy.int32'>  and has size  4  bytes.\n",
      "The datatype of the elements of a is   <class 'numpy.uint8'>  and has size  1  byte.\n"
     ]
    }
   ],
   "source": [
    "## First we convert a list in python to an array without specifying the datatype\n",
    "a=np.array([0 , 1])\n",
    "\n",
    "## Here we did not specify the datatype so numpy used numpy.int32\n",
    "print(\"The datatype of the elements of a is  \",type(a[0]), \" and has size \", a[0].itemsize, \" bytes.\")\n",
    "\n",
    "## Now we provide the datatype\n",
    "a=np.array([0 , 1],dtype=np.uint8)\n",
    "\n",
    "## Observe the new datatype\n",
    "print(\"The datatype of the elements of a is  \",type(a[0]), \" and has size \",  a[0].itemsize, \" byte.\")\n"
   ]
  },
  {
   "cell_type": "markdown",
   "metadata": {
    "ein.tags": "worksheet-0",
    "slideshow": {
     "slide_type": "-"
    }
   },
   "source": [
    "We may also initialize arrays with default values, such as zeros or ones. We will need to provide a **shape** for the array in the form of a tuple. The shape tuple can take any number of coordinates. Suppose the shape tuple has one coordinate---we are talking of a vector (which is a 1-d array). If the shape tuple has two coordinates, we are talking of a matrix (a 2-d array as far as python is concerned). It is quite possible you have 3-d, 4-d and higher arrays, but in this course, we will primarily be concerned with 1- and 2-d arrays (and occasionally 3-d arrays when organizing images for example).\n",
    "\n",
    "For example, let us consider a vector (1-d array) with $n$ elements.\n",
    "$$a=\\begin{bmatrix}a_0\\\\ a_1 \\\\ \\vdots \\\\ a_{n-1} \\end{bmatrix}$$\n",
    "Each element is accessed with one subscript, e.g., $a[2]=a_2$ , starting at $0$ . We can initialize a 1-d array of shape $(n,)$ with zeros by writing.\n",
    "```python\n",
    "a=np.zeros((n,),dtype=np.float32)\n",
    "```\n",
    "\n",
    "\n",
    "<br>\n",
    "A two dimensional array, e.g., a matrix, will have the form.\n",
    "$$a=\\begin{bmatrix}a_{0,0} & a_{0,1} & \\dots a_{0,m-1}  \\\\ \\vdots & \\dots &  \\vdots \\\\ a_{n-1,0} & a_{0,1} & \\dots a_{n-1,m-1} \\end{bmatrix}$$\n",
    "\n",
    "We can initialize a 2-d array of shape $(n,m)$ with zeros by writing.\n",
    " \n",
    "```python\n",
    "a=np.zeros((n,m),dtype=np.float32)\n",
    "```\n",
    "\n",
    "In the above examples, the arrays had one or two dimensions. We may create arbitrary dimensions for an array."
   ]
  },
  {
   "cell_type": "code",
   "execution_count": 28,
   "metadata": {
    "autoscroll": false,
    "ein.hycell": false,
    "ein.tags": "worksheet-0",
    "slideshow": {
     "slide_type": "-"
    }
   },
   "outputs": [
    {
     "name": "stdout",
     "output_type": "stream",
     "text": [
      "a= [[[0. 0. 0. 0.]\n",
      "  [0. 0. 0. 0.]\n",
      "  [0. 0. 0. 0.]]\n",
      "\n",
      " [[0. 0. 0. 0.]\n",
      "  [0. 0. 0. 0.]\n",
      "  [0. 0. 0. 0.]]]\n",
      "The shape of the 3-dimensional array a is  (2, 3, 4)\n",
      "a[:,0,:]= [[0. 0. 0. 0.]\n",
      " [0. 0. 0. 0.]]\n"
     ]
    }
   ],
   "source": [
    "## here we create a 3-dimensional array with shape (2,3,4) This means \n",
    "## 2 different 3x4 matrices, or 2 matrices each with 3 rows and 4 columns\n",
    "import numpy as np\n",
    "\n",
    "a=np.zeros((2,3,4),dtype=np.float32)\n",
    "\n",
    "print(\"a=\",a)\n",
    "\n",
    "## we can access the shape using the attribute \"shape\" on the ndarray object (here, a)\n",
    "print(\"The shape of the 3-dimensional array a is \",a.shape)\n",
    "\n",
    "## You could also access the shape by calling the function shape with argument a\n",
    "np.shape(a)\n",
    "\n",
    "## You could also fix the second argument and access the resultant 2x4 matrix. The :\n",
    "## denotes \"run through all values this index can take\". \n",
    "print(\"a[:,0,:]=\", a[:,0,:])\n",
    "\n",
    "\n"
   ]
  },
  {
   "cell_type": "markdown",
   "metadata": {
    "ein.tags": "worksheet-0",
    "slideshow": {
     "slide_type": "-"
    }
   },
   "source": [
    "Now we will show multiple ways to iterate over a multidimensional array."
   ]
  },
  {
   "cell_type": "code",
   "execution_count": 29,
   "metadata": {
    "autoscroll": false,
    "ein.hycell": false,
    "ein.tags": "worksheet-0",
    "slideshow": {
     "slide_type": "-"
    }
   },
   "outputs": [
    {
     "name": "stdout",
     "output_type": "stream",
     "text": [
      "[[[ 0.  1.  2.  3.]\n",
      "  [ 4.  5.  6.  7.]\n",
      "  [ 8.  9. 10. 11.]]\n",
      "\n",
      " [[12. 13. 14. 15.]\n",
      "  [16. 17. 18. 19.]\n",
      "  [20. 21. 22. 23.]]]\n",
      "a[0]=\n",
      " [[ 0.  1.  2.  3.]\n",
      " [ 4.  5.  6.  7.]\n",
      " [ 8.  9. 10. 11.]]\n",
      "a[:,0,:]= \n",
      " [[ 0.  1.  2.  3.]\n",
      " [12. 13. 14. 15.]]\n",
      "Locations where the entry is <10 \n",
      " (array([0, 0, 0, 0, 0, 0, 0, 0, 0, 0], dtype=int64), array([0, 0, 0, 0, 1, 1, 1, 1, 2, 2], dtype=int64), array([0, 1, 2, 3, 0, 1, 2, 3, 0, 1], dtype=int64))\n",
      "Entries of a that are < 10 \n",
      " [0. 1. 2. 3. 4. 5. 6. 7. 8. 9.]\n",
      "a reshaped into a 2x12 matrix \n",
      " [[[ 0.  1.  2.  3.]\n",
      "  [ 4.  5.  6.  7.]\n",
      "  [ 8.  9. 10. 11.]]\n",
      "\n",
      " [[12. 13. 14. 15.]\n",
      "  [16. 17. 18. 19.]\n",
      "  [20. 21. 22. 23.]]]\n",
      "0.0\n",
      "1.0\n",
      "2.0\n",
      "3.0\n",
      "4.0\n",
      "5.0\n",
      "6.0\n",
      "7.0\n",
      "8.0\n",
      "9.0\n",
      "10.0\n",
      "11.0\n",
      "12.0\n",
      "13.0\n",
      "14.0\n",
      "15.0\n",
      "16.0\n",
      "17.0\n",
      "18.0\n",
      "19.0\n",
      "20.0\n",
      "21.0\n",
      "22.0\n",
      "23.0\n",
      "Here we calculate individually squaring the elements of a, resulting in \n",
      "  [[[  0.   1.   4.   9.]\n",
      "  [ 16.  25.  36.  49.]\n",
      "  [ 64.  81. 100. 121.]]\n",
      "\n",
      " [[144. 169. 196. 225.]\n",
      "  [256. 289. 324. 361.]\n",
      "  [400. 441. 484. 529.]]]\n"
     ]
    }
   ],
   "source": [
    "\n",
    "## we may fill a with ascending numbers by using the following comprehension\n",
    "count=0\n",
    "for i in range(a.shape[0]):\n",
    "    for j in range(a.shape[1]):\n",
    "        for k in range(a.shape[2]):\n",
    "            a[i,j,k]=count\n",
    "            count+=1\n",
    "## now we see how a was filled\n",
    "print(a)\n",
    "\n",
    "## You would access the first matrix using a[0]. \n",
    "print(\"a[0]=\"+'\\n', a[0])\n",
    "\n",
    "## You could also fix the second argument and access the resultant 2x4 matrix. The :\n",
    "## denotes \"run through all values this index can take\". \n",
    "print(\"a[:,0,:]=\",'\\n', a[:,0,:])\n",
    "\n",
    "## Suppose you wanted all locations that were < 10\n",
    "print('Locations where the entry is <10','\\n',np.where(a<10))\n",
    "\n",
    "## The output may be tricky to parse. But this is a list of all locations that satisfy \n",
    "## entry < 10. The three arrays are along the three indices of a.\n",
    "## Each position where the entry is < 10 is obtained by picking one entry from the \n",
    "## first array, and the corresponding elements from later arrays. For example, \n",
    "## the first position we choose the first element of each of the three arrays\n",
    "## to obtain (0,0,0). The second position that satisfies entry < 10 is (0,0,1),\n",
    "## next one is (0,0,2), (0,0,3), (0,1,0) and so on.\n",
    "\n",
    "## If you would like to print out the entries where a<10, you would use:\n",
    "\n",
    "print('Entries of a that are < 10', '\\n', a[np.where(a<10)])\n",
    "\n",
    "## Note that the output above is an array. \n",
    "\n",
    "## You can change the shape by simply overwriting the shape attribute of the object!\n",
    "## Note: if you want to run this cell a second time, you need to run the previous\n",
    "## cell also again before you do. Why? \n",
    "\n",
    "a.shape=(2,12)\n",
    "print('a reshaped into a 2x12 matrix','\\n',a)\n",
    "\n",
    "## we may also read through the elements of the array by using an iterator \"np.nditer\". \n",
    "## You should read it as n-d iter(ator). In the following, python feeds into x each\n",
    "## successive element of the n-d array. In C or Matlab, you had to write i,j,k as in \n",
    "## in the above loop---python gives you a quick way to do exactly the same thing.\n",
    "\n",
    "print('Elements of the matrix returned in order from nditer:')\n",
    "for x in np.nditer(a):\n",
    "    print(x)\n",
    "\n",
    "    \n",
    "## we may also alter the array by using \"op_flags\" with \"np.nditer\"\n",
    "for x in np.nditer(a, op_flags = [\"readwrite\"]): \n",
    "    x[...] = x*x\n",
    "\n",
    "\n",
    "## We see the results of individually squaring each element\n",
    "print(\"Here we calculate individually squaring the elements of a, resulting in \\n \",a)"
   ]
  },
  {
   "cell_type": "markdown",
   "metadata": {
    "ein.tags": "worksheet-0",
    "slideshow": {
     "slide_type": "-"
    }
   },
   "source": [
    "## <span style=\"color:red\"> (3) Questions</span>\n",
    "\n",
    "1. Create a new code cell for each problem below and type in the code.\n",
    "\n",
    "2. Create a list with at least the names of four Hawaiian Islands. If desired you can write the ʻokina \n",
    "as `u\"\\u02BB\" `. For example to write hawai'i, we would type,\n",
    "```python\n",
    "okina=u\"\\u02BB\"\n",
    "a=\"hawai\" + okina + \"i\"\n",
    "```\n",
    "3. Iterate through the list and print the contents.\n",
    "\n",
    "4. Create a tuple containing three elements: the integers 3, 4, and 2 in that order.\n",
    "\n",
    "5. Create a numpy three dimensional array of 64 bit floats with the shape from the previous problem, and initialize with zeros.\n",
    "\n",
    "6. Set the 0,0,0th entry of the matrix to be 1/3. Now iterate through the array using three `for` loops. In each successive location from the 0,0,1th location, write the square root of the number from the previous location. Repeat the same with np.nditer.\n",
    "\n",
    "7. Iterate through the array using `np.nditer` and print out each value.\n",
    "\n",
    "8. Write a function to multiply a matrix with a vector on the right. Do this with a loop and using nditer. In the next lab, we will see a faster way to compute this.\n",
    "\n",
    "For example to write a function to print the elements of a matrix using a loop, we write\n",
    "```python\n",
    "def print_matrix(x):\n",
    "    if len(x.shape) != 2:\n",
    "        print(\"x must be a two-dimensional array.\")\n",
    "        return None\n",
    "    for i in range(x.shape[0]):\n",
    "        for j in range(x.shape[1]):\n",
    "            print(x[i,j],\" \", end = '')\n",
    "        print(\"\\n\")\n",
    "```\n",
    "\n",
    "9. In a 2-d array (matrix), write a function that returns the diagonal elements as an array. Ask your TA to illustrate the diagonal elements for a rectangular array before you begin. \n",
    "\n",
    "10. Populate a 2-d array of shape (10,15) with 0s and 1s chosen randomly. To do this, import the module random first, and use randint(0,1) to generate a random bit. Use nditer instead of a loop here. \n",
    "\n",
    "11. You can reshape arrays using the call np.reshape(a, newshape), where newshape is the tuple corresponding to the new shape desired. Generate an array of 24 increasing numbers starting from 0 using range(24). Reshape it to get the 3-d matrix a. What happens when the tuple newshape is incompatible with the size of a---ie, here a has size 24, but what if newshape is (5,5)?\n",
    "\n",
    "12. The function np.where(condition, x, y) evaluates the condition. x,y are matrices of the same size. If condition is TRUE in a given position, it outputs the corresponding element of x in that position, else y. Take the matrix from Problem 10 above, and replace every occurence of 0 with -1 using np.where(condition, x, y) by choosing the arguments wisely."
   ]
  },
  {
   "cell_type": "code",
   "execution_count": 103,
   "metadata": {
    "autoscroll": false,
    "ein.hycell": false,
    "ein.tags": "worksheet-0",
    "slideshow": {
     "slide_type": "-"
    }
   },
   "outputs": [],
   "source": [
    "#2\n",
    "#Create a list with at least the names of four Hawaiian Islands. \n",
    "#If desired you can write the ʻokina as u\"\\u02BB\". For example to write hawai'i, we would type,\n",
    "a = \"Kauai\"\n",
    "b = \"Moloka\"+okina+\"i\"\n",
    "c = \"O\"+okina+\"ahu\"\n",
    "d = \"Maui\"\n",
    "okina = u\"\\u02BB\"\n",
    "arr = [a,b,c,d]"
   ]
  },
  {
   "cell_type": "code",
   "execution_count": 104,
   "metadata": {},
   "outputs": [
    {
     "name": "stdout",
     "output_type": "stream",
     "text": [
      "Kauai\n",
      "Molokaʻi\n",
      "Oʻahu\n",
      "Maui\n"
     ]
    }
   ],
   "source": [
    "#3\n",
    "#Iterate through the list and print the contents.\n",
    "for r in range(len(arr)):\n",
    "    print(arr[r])"
   ]
  },
  {
   "cell_type": "code",
   "execution_count": 105,
   "metadata": {},
   "outputs": [],
   "source": [
    "#4\n",
    "#Create a tuple containing three elements: the integers 3, 4, and 2 in that order.\n",
    "tuple = (3,4,2)"
   ]
  },
  {
   "cell_type": "code",
   "execution_count": 106,
   "metadata": {},
   "outputs": [],
   "source": [
    "#5\n",
    "#Create a numpy three dimensional array of 64 bit floats with the shape from the previous problem, \n",
    "#and initialize with zeros.\n",
    "arr = np.zeros(tuple, dtype = np.float64)"
   ]
  },
  {
   "cell_type": "code",
   "execution_count": 107,
   "metadata": {},
   "outputs": [
    {
     "name": "stdout",
     "output_type": "stream",
     "text": [
      "0.3333333333333333\n",
      "0.5773502691896257\n",
      "0.7598356856515925\n",
      "0.8716855428717357\n",
      "0.93364101391902\n",
      "0.9662510097893922\n",
      "0.9829806762034502\n",
      "0.9914538195011657\n",
      "0.9957177408789931\n",
      "0.9978565733004885\n",
      "0.9989277117491978\n",
      "0.9994637120722282\n",
      "0.9997318200758782\n",
      "0.9998659010466745\n",
      "0.9999329482753704\n",
      "0.9999664735756746\n",
      "0.9999832366473324\n",
      "0.9999916182885397\n",
      "0.9999958091354881\n",
      "0.9999979045655486\n",
      "0.9999989522822255\n",
      "0.9999994761409755\n",
      "0.9999997380704535\n",
      "0.9999998690352182\n"
     ]
    }
   ],
   "source": [
    "#6\n",
    "#Set the 0,0,0th entry of the matrix to be 1/3. Now iterate through the array using three `for` loops. \n",
    "#In each successive location from the 0,0,1th location, write the square root of the number from the previous location. \n",
    "#Repeat the same with np.nditer.\n",
    "arr[0,0,0] = 1/3\n",
    "count = 0\n",
    "prev = arr[0,0,0]\n",
    "\n",
    "for ent in np.nditer(arr, op_flags = [\"readwrite\"]):\n",
    "    if (count >= 1):\n",
    "        ent[...] = np.sqrt(prev)\n",
    "        prev = ent\n",
    "    count += 1\n",
    "    print(ent)"
   ]
  },
  {
   "cell_type": "code",
   "execution_count": 108,
   "metadata": {},
   "outputs": [
    {
     "name": "stdout",
     "output_type": "stream",
     "text": [
      "0.3333333333333333\n",
      "0.5773502691896257\n",
      "0.7598356856515925\n",
      "0.8716855428717357\n",
      "0.93364101391902\n",
      "0.9662510097893922\n",
      "0.9829806762034502\n",
      "0.9914538195011657\n",
      "0.9957177408789931\n",
      "0.9978565733004885\n",
      "0.9989277117491978\n",
      "0.9994637120722282\n",
      "0.9997318200758782\n",
      "0.9998659010466745\n",
      "0.9999329482753704\n",
      "0.9999664735756746\n",
      "0.9999832366473324\n",
      "0.9999916182885397\n",
      "0.9999958091354881\n",
      "0.9999979045655486\n",
      "0.9999989522822255\n",
      "0.9999994761409755\n",
      "0.9999997380704535\n",
      "0.9999998690352182\n"
     ]
    }
   ],
   "source": [
    "#7\n",
    "#Iterate through the array using np.nditer and print out each value.\n",
    "for j in np.nditer(arr):\n",
    "    print(j)"
   ]
  },
  {
   "cell_type": "code",
   "execution_count": 109,
   "metadata": {},
   "outputs": [
    {
     "name": "stdout",
     "output_type": "stream",
     "text": [
      "[167.   0.   0.]\n"
     ]
    }
   ],
   "source": [
    "#8\n",
    "#Write a function to multiply a matrix with a vector on the right.\n",
    "import numpy as np\n",
    "def matrix_multi(a,vec):\n",
    "    product = np.zeros(len(vec))\n",
    "    for j in range(len(vec)):\n",
    "        i = 0\n",
    "        sum = 0\n",
    "        for x in np.nditer(a[j,:]):\n",
    "            sum += x* vec[i]\n",
    "            i = i + 1\n",
    "            product[j] = sum\n",
    "        return product\n",
    "\n",
    "matrix = np.array([[3,2,1],[8,3,2],[12,5,3]])\n",
    "vector = np.array([3,78,2])\n",
    "print(matrix_multi(matrix,vector))"
   ]
  },
  {
   "cell_type": "code",
   "execution_count": 110,
   "metadata": {},
   "outputs": [
    {
     "name": "stdout",
     "output_type": "stream",
     "text": [
      "[[0 1 2]\n",
      " [3 4 5]\n",
      " [6 7 8]]\n",
      "[0. 4. 8.]\n"
     ]
    }
   ],
   "source": [
    "#9\n",
    "#In a 2-d array (matrix), write a function that returns the diagonal elements as an array.\n",
    "mat2 = np.arange(9).reshape(3,3)\n",
    "print(mat2)\n",
    "diag = np.array([])\n",
    "for i in range(mat2.shape[0]):\n",
    "    for j in range(mat2.shape[1]):\n",
    "            if i==j:\n",
    "                diag = np.append(diag, mat2[i,j])\n",
    "print(diag)"
   ]
  },
  {
   "cell_type": "code",
   "execution_count": 111,
   "metadata": {},
   "outputs": [
    {
     "name": "stdout",
     "output_type": "stream",
     "text": [
      "[[1 1 1 1 0 1 1 1 0 1 0 1 1 1 0]\n",
      " [0 0 0 0 1 1 0 1 1 1 0 1 1 0 1]\n",
      " [1 0 0 0 0 0 1 1 1 1 0 0 1 1 0]\n",
      " [0 1 0 1 0 1 0 0 0 1 1 1 1 0 1]\n",
      " [1 1 0 0 1 0 0 0 1 0 0 0 1 1 1]\n",
      " [0 0 1 0 1 0 1 0 1 1 0 1 0 0 0]\n",
      " [1 0 1 1 1 0 1 1 1 0 1 1 0 1 0]\n",
      " [1 1 1 1 1 0 1 1 0 1 1 0 1 1 0]\n",
      " [0 1 0 1 1 1 1 1 1 1 0 1 1 1 1]\n",
      " [0 1 0 1 0 0 0 1 0 0 0 1 1 1 0]]\n"
     ]
    }
   ],
   "source": [
    "#10\n",
    "#Populate a 2-d array of shape (10,15) with 0s and 1s chosen randomly.\n",
    "import random\n",
    "bin_arr = np.random.randint(2, size=(10,15))\n",
    "print(bin_arr)"
   ]
  },
  {
   "cell_type": "code",
   "execution_count": 112,
   "metadata": {},
   "outputs": [
    {
     "name": "stdout",
     "output_type": "stream",
     "text": [
      "[ 0  1  2  3  4  5  6  7  8  9 10 11 12 13 14 15 16 17 18 19 20 21 22 23]\n",
      "[ 0  1  2  3  4  5  6  7  8  9 10 11 12 13 14 15 16 17 18 19 20 21 22 23]\n"
     ]
    }
   ],
   "source": [
    "#11\n",
    "#ie, here a has size 24, but what if newshape is (5,5)\n",
    "#cannot reshape array of size 24 into shape (24,24)\n",
    "inc_arr = np.zeros(24, np.int)\n",
    "\n",
    "for i in range(24):\n",
    "    inc_arr[i] = i\n",
    "    \n",
    "print(inc_arr)\n",
    "np.reshape(inc_arr, (2, 3, 4))\n",
    "print(inc_arr)"
   ]
  },
  {
   "cell_type": "code",
   "execution_count": 97,
   "metadata": {
    "scrolled": true
   },
   "outputs": [
    {
     "data": {
      "text/plain": [
       "array([[ 1, -1,  1,  1, -1,  1, -1,  1,  1,  1,  1, -1,  1, -1,  1],\n",
       "       [ 1,  1,  1, -1, -1,  1, -1,  1, -1, -1, -1, -1, -1,  1,  1],\n",
       "       [ 1,  1,  1,  1,  1, -1, -1, -1, -1, -1,  1, -1,  1,  1, -1],\n",
       "       [-1,  1,  1, -1,  1,  1,  1,  1,  1,  1, -1, -1, -1,  1,  1],\n",
       "       [-1, -1,  1,  1,  1,  1, -1, -1,  1,  1,  1, -1, -1, -1, -1],\n",
       "       [-1, -1,  1,  1, -1,  1, -1, -1,  1,  1, -1, -1,  1,  1, -1],\n",
       "       [-1, -1,  1, -1,  1, -1,  1,  1,  1,  1,  1,  1,  1,  1, -1],\n",
       "       [-1, -1,  1, -1, -1, -1, -1,  1, -1, -1,  1,  1, -1, -1,  1],\n",
       "       [-1,  1, -1,  1,  1, -1, -1, -1,  1, -1, -1, -1,  1,  1, -1],\n",
       "       [ 1,  1,  1,  1,  1, -1, -1,  1, -1, -1,  1,  1, -1,  1, -1]])"
      ]
     },
     "execution_count": 97,
     "metadata": {},
     "output_type": "execute_result"
    }
   ],
   "source": [
    "#12\n",
    "#The function np.where(condition, x, y) evaluates the condition. x,y are matrices of the same size. \n",
    "#If condition is TRUE in a given position, it outputs the corresponding element of x in that position, else y. \n",
    "#Take the matrix from Problem 10 above, and replace every occurence of 0 with -1 using np.where(condition, x, y) \n",
    "#by choosing the arguments wisely.\n",
    "np.where(bin_arr==0, -1, bin_arr)"
   ]
  }
 ],
 "metadata": {
  "kernelspec": {
   "display_name": "Python 3",
   "language": "python",
   "name": "python3"
  },
  "language_info": {
   "codemirror_mode": {
    "name": "ipython",
    "version": 3
   },
   "file_extension": ".py",
   "mimetype": "text/x-python",
   "name": "python",
   "nbconvert_exporter": "python",
   "pygments_lexer": "ipython3",
   "version": "3.7.4"
  },
  "name": "lab0.ipynb"
 },
 "nbformat": 4,
 "nbformat_minor": 4
}
