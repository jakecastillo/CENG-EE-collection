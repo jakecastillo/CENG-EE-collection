{
 "cells": [
  {
   "cell_type": "code",
   "execution_count": 73,
   "metadata": {},
   "outputs": [
    {
     "name": "stdout",
     "output_type": "stream",
     "text": [
      "A,b\n",
      "[[3 0]\n",
      " [4 1]\n",
      " [5 0]\n",
      " [6 1]] \n",
      " [[ 3]\n",
      " [ 7]\n",
      " [ 5]\n",
      " [13]]\n",
      "\n",
      "\n",
      "A1,b1\n",
      "[[3 0]\n",
      " [4 1]\n",
      " [5 0]\n",
      " [0 1]] \n",
      " [[3]\n",
      " [7]\n",
      " [5]\n",
      " [7]]\n",
      "\n",
      "\n",
      "A2,b2\n",
      "[[3. 0.]\n",
      " [4. 1.]\n",
      " [0. 0.]\n",
      " [0. 1.]] \n",
      " [[3.]\n",
      " [7.]\n",
      " [0.]\n",
      " [7.]]\n",
      "\n",
      "\n",
      "A3,b3\n",
      "[[3. 0.]\n",
      " [0. 1.]\n",
      " [0. 0.]\n",
      " [0. 0.]] \n",
      " [[3.]\n",
      " [3.]\n",
      " [0.]\n",
      " [0.]]\n"
     ]
    }
   ],
   "source": [
    "#Jake Castillo (Mon,10,2020)\n",
    "#1 [3,4,5,6],[0,1,0,1],[3,7,5,13] are they in the same plane?\n",
    "import numpy as np\n",
    "import numpy.random as npr\n",
    "\n",
    "# For plotting\n",
    "\n",
    "import matplotlib.pyplot as plt\n",
    "from mpl_toolkits import mplot3d\n",
    "\n",
    "#3+4+5+6 = 18\n",
    "#0+1+0+1 = 2\n",
    "#3+7+5+13 = 28\n",
    "#Assumption: They do not exist in the same plane. The system is inconsistent.\n",
    "#Attempted elimination\n",
    "\n",
    "A = np.array([[3,4,5,6],[0,1,0,1]]).T\n",
    "b = np.array([3,7,5,13]).reshape(4,1)\n",
    "print('A,b')\n",
    "print(A, '\\n', b)\n",
    "print('\\n')\n",
    "E1 = np.array([[1,0,0,0],[0,1,0,0],[0,0,1,0],[-2,0,0,1]])\n",
    "\n",
    "A1 = E1 @ A\n",
    "b1 = E1 @ b\n",
    "print('A1,b1')\n",
    "print(A1,'\\n',b1)\n",
    "print('\\n')\n",
    "E2 = np.array([[1,0,0,0],[0,1,0,0],[-5/3,0,1,0],[0,0,0,1]])\n",
    "\n",
    "A2 = E2 @ A1\n",
    "b2 = E2 @ b1\n",
    "print('A2,b2')\n",
    "print(A2,'\\n',b2)\n",
    "print('\\n')\n",
    "\n",
    "E3 = np.array([[1,0,0,0],[-4/3,1,0,0],[0,0,1,0],[0,0,0,0]])\n",
    "\n",
    "A3 = E3 @ A2\n",
    "b3 = E3 @ b2\n",
    "print('A3,b3')\n",
    "print(A3,'\\n',b3)"
   ]
  },
  {
   "cell_type": "code",
   "execution_count": null,
   "metadata": {},
   "outputs": [],
   "source": [
    "#W1(3) = 3\n",
    "#W2(1) = 3"
   ]
  },
  {
   "cell_type": "code",
   "execution_count": 74,
   "metadata": {},
   "outputs": [
    {
     "name": "stdout",
     "output_type": "stream",
     "text": [
      "The coefficients from scikit-learn are  [[2. 4.]]\n",
      "\n",
      "\n",
      "[[ 2.]\n",
      " [ 8.]\n",
      " [ 6.]\n",
      " [12.]]\n",
      "\n",
      "\n",
      "[[4.]]\n"
     ]
    }
   ],
   "source": [
    "#2 Find the vector closest to A = b\n",
    "from sklearn.linear_model import LinearRegression\n",
    "\n",
    "reg = LinearRegression(fit_intercept=True).fit(A, b)\n",
    "print('The coefficients from scikit-learn are ', reg.coef_)\n",
    "print('\\n')\n",
    "#coefficients are [[2. 4.]]\n",
    "print(reg.predict(A))\n",
    "\n",
    "print('\\n')\n",
    "err = reg.predict(A)-b\n",
    "print(err.T @ err)"
   ]
  },
  {
   "cell_type": "code",
   "execution_count": null,
   "metadata": {},
   "outputs": [],
   "source": []
  }
 ],
 "metadata": {
  "kernelspec": {
   "display_name": "Python 3",
   "language": "python",
   "name": "python3"
  },
  "language_info": {
   "codemirror_mode": {
    "name": "ipython",
    "version": 3
   },
   "file_extension": ".py",
   "mimetype": "text/x-python",
   "name": "python",
   "nbconvert_exporter": "python",
   "pygments_lexer": "ipython3",
   "version": "3.7.4"
  }
 },
 "nbformat": 4,
 "nbformat_minor": 2
}
